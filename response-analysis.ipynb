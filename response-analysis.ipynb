{
 "cells": [
  {
   "cell_type": "code",
   "execution_count": 1,
   "metadata": {},
   "outputs": [],
   "source": [
    "import json\n",
    "from urllib import request, error"
   ]
  },
  {
   "cell_type": "code",
   "execution_count": 2,
   "metadata": {},
   "outputs": [],
   "source": [
    "def get_user_activity(url: str) -> dict:\n",
    "    \"\"\"get user data via http\n",
    "\n",
    "    Args:\n",
    "        url (str): url path to user data\n",
    "\n",
    "    Returns:\n",
    "        dict: response body\n",
    "    \"\"\"\n",
    "    try:\n",
    "        with request.urlopen(url) as response:\n",
    "            data = response.read()\n",
    "            json_data = json.loads(data.decode('utf-8'))\n",
    "            return json_data\n",
    "    except error.HTTPError as e:\n",
    "        print(f\"HTTP Error code: {e.code}\")\n",
    "    except error.URLError as e:\n",
    "        print(f\"HTTP Error message: {e.reason}\")"
   ]
  },
  {
   "cell_type": "code",
   "execution_count": 3,
   "metadata": {},
   "outputs": [],
   "source": [
    "acitivity_dict = get_user_activity('https://api.github.com/users/kamranahmedse/events')"
   ]
  },
  {
   "cell_type": "code",
   "execution_count": 6,
   "metadata": {},
   "outputs": [
    {
     "name": "stdout",
     "output_type": "stream",
     "text": [
      "PushEvent\n",
      "PullRequestEvent\n",
      "IssueCommentEvent\n",
      "IssuesEvent\n"
     ]
    }
   ],
   "source": [
    "event_types = []\n",
    "\n",
    "for event in acitivity_dict:\n",
    "    type = event.get('type')\n",
    "    if type not in event_types:\n",
    "        event_types.append(type)\n",
    "    \n",
    "\n",
    "if len(event_types) > 0:\n",
    "    for type in event_types:\n",
    "        print(type)\n"
   ]
  }
 ],
 "metadata": {
  "kernelspec": {
   "display_name": "Python 3",
   "language": "python",
   "name": "python3"
  },
  "language_info": {
   "codemirror_mode": {
    "name": "ipython",
    "version": 3
   },
   "file_extension": ".py",
   "mimetype": "text/x-python",
   "name": "python",
   "nbconvert_exporter": "python",
   "pygments_lexer": "ipython3",
   "version": "3.10.12"
  }
 },
 "nbformat": 4,
 "nbformat_minor": 2
}
